{
 "cells": [
  {
   "cell_type": "markdown",
   "metadata": {},
   "source": [
    "Stock Prediction with Recurrent Neural Network\n",
    "\n",
    "Deep learning is involved a lot in the modern quantitive financial field. There are many different neural networks can be applied to stock price prediction problems. The recurrent neural network, to be specific, the Long Short Term Memory(LSTM) network outperforms others architecture since it can take advantage of predicting time series (or sequentially) involved result with a specific configuration.\n",
    "\n",
    "We will make a really simple LSTM with Keras to predict the stock price in the Chinese stock."
   ]
  },
  {
   "cell_type": "code",
   "execution_count": 19,
   "metadata": {},
   "outputs": [],
   "source": [
    "import time\n",
    "import math\n",
    "from keras.models import Sequential\n",
    "from keras.layers.core import Dense, Dropout, Activation\n",
    "from keras.layers.recurrent import LSTM\n",
    "import numpy as np\n",
    "import pandas as pd\n",
    "import sklearn.preprocessing as prep"
   ]
  },
  {
   "cell_type": "markdown",
   "id": "7097d0e1",
   "metadata": {},
   "source": [
    "This code imports the necessary libraries and modules for building and training a LSTM (Long Short-Term Memory) model using Keras.   The `time` module is imported to keep track of the execution time of certain parts of the code.  The `math` module is imported for mathematical operations, although it is not used in this specific code.  The `Sequential`, `Dense`, `Dropout`, and `Activation` classes are imported from the `keras.layers.core` module. These are essential building blocks for constructing the LSTM model.  The `LSTM` class is imported from the `keras.layers.recurrent` module, which represents the core LSTM layer. The `numpy` module is imported as `np` for handling array and numerical operations. The `pandas` module is imported as `pd` for data manipulation and analysis.  The `sklearn.preprocessing` module is imported as `prep` for data preprocessing tasks.  Overall, this code sets up the environment and imports the necessary tools for creating an LSTM model."
   ]
  },
  {
   "cell_type": "markdown",
   "metadata": {},
   "source": [
    "Import Data\n",
    "\n",
    "I have introduced how we get this dataset both in README.md and in another notebook."
   ]
  },
  {
   "cell_type": "code",
   "execution_count": 20,
   "metadata": {},
   "outputs": [
    {
     "data": {
      "text/html": [
       "<div>\n",
       "<style scoped>\n",
       "    .dataframe tbody tr th:only-of-type {\n",
       "        vertical-align: middle;\n",
       "    }\n",
       "\n",
       "    .dataframe tbody tr th {\n",
       "        vertical-align: top;\n",
       "    }\n",
       "\n",
       "    .dataframe thead th {\n",
       "        text-align: right;\n",
       "    }\n",
       "</style>\n",
       "<table border=\"1\" class=\"dataframe\">\n",
       "  <thead>\n",
       "    <tr style=\"text-align: right;\">\n",
       "      <th></th>\n",
       "      <th>open</th>\n",
       "      <th>high</th>\n",
       "      <th>low</th>\n",
       "      <th>volume</th>\n",
       "      <th>amount</th>\n",
       "      <th>close</th>\n",
       "    </tr>\n",
       "  </thead>\n",
       "  <tbody>\n",
       "    <tr>\n",
       "      <th>0</th>\n",
       "      <td>20.64</td>\n",
       "      <td>20.64</td>\n",
       "      <td>20.37</td>\n",
       "      <td>16362363.0</td>\n",
       "      <td>3.350027e+08</td>\n",
       "      <td>20.56</td>\n",
       "    </tr>\n",
       "    <tr>\n",
       "      <th>1</th>\n",
       "      <td>20.92</td>\n",
       "      <td>20.92</td>\n",
       "      <td>20.60</td>\n",
       "      <td>21850597.0</td>\n",
       "      <td>4.520071e+08</td>\n",
       "      <td>20.64</td>\n",
       "    </tr>\n",
       "    <tr>\n",
       "      <th>2</th>\n",
       "      <td>21.00</td>\n",
       "      <td>21.15</td>\n",
       "      <td>20.72</td>\n",
       "      <td>26910139.0</td>\n",
       "      <td>5.628396e+08</td>\n",
       "      <td>20.94</td>\n",
       "    </tr>\n",
       "    <tr>\n",
       "      <th>3</th>\n",
       "      <td>20.70</td>\n",
       "      <td>21.57</td>\n",
       "      <td>20.70</td>\n",
       "      <td>64585536.0</td>\n",
       "      <td>1.363421e+09</td>\n",
       "      <td>21.02</td>\n",
       "    </tr>\n",
       "    <tr>\n",
       "      <th>4</th>\n",
       "      <td>20.60</td>\n",
       "      <td>20.70</td>\n",
       "      <td>20.20</td>\n",
       "      <td>45886018.0</td>\n",
       "      <td>9.382043e+08</td>\n",
       "      <td>20.70</td>\n",
       "    </tr>\n",
       "  </tbody>\n",
       "</table>\n",
       "</div>"
      ],
      "text/plain": [
       "    open   high    low      volume        amount  close\n",
       "0  20.64  20.64  20.37  16362363.0  3.350027e+08  20.56\n",
       "1  20.92  20.92  20.60  21850597.0  4.520071e+08  20.64\n",
       "2  21.00  21.15  20.72  26910139.0  5.628396e+08  20.94\n",
       "3  20.70  21.57  20.70  64585536.0  1.363421e+09  21.02\n",
       "4  20.60  20.70  20.20  45886018.0  9.382043e+08  20.70"
      ]
     },
     "execution_count": 20,
     "metadata": {},
     "output_type": "execute_result"
    }
   ],
   "source": [
    "df = pd.read_csv('000002-from-1995-01-01.csv')\n",
    "df.head()"
   ]
  },
  {
   "cell_type": "markdown",
   "id": "26250d0d",
   "metadata": {},
   "source": [
    "This code reads a CSV file named '000002-from-1995-01-01.csv' into a DataFrame using the pandas library. It then displays the first few rows of the DataFrame using the `head()` function."
   ]
  },
  {
   "cell_type": "markdown",
   "metadata": {},
   "source": [
    "Preprocess Data\n",
    "\n",
    "We can see from the table above that the scales of our features vary a lot. It will be beneficial to normalize your training data before you feed data into your model. \"Having different features with widely different scales fed to your model will cause the network to weight the features not equally. This can cause a falsely prioritisation of some features over the others in the representation.\" Read  for more detailed explanation."
   ]
  },
  {
   "cell_type": "code",
   "execution_count": 21,
   "metadata": {},
   "outputs": [],
   "source": [
    "def standard_scaler(X_train, X_test):\n",
    "    train_samples, train_nx, train_ny = X_train.shape\n",
    "    test_samples, test_nx, test_ny = X_test.shape\n",
    "    \n",
    "    X_train = X_train.reshape((train_samples, train_nx * train_ny))\n",
    "    X_test = X_test.reshape((test_samples, test_nx * test_ny))\n",
    "    \n",
    "    preprocessor = prep.StandardScaler().fit(X_train)\n",
    "    X_train = preprocessor.transform(X_train)\n",
    "    X_test = preprocessor.transform(X_test)\n",
    "    \n",
    "    X_train = X_train.reshape((train_samples, train_nx, train_ny))\n",
    "    X_test = X_test.reshape((test_samples, test_nx, test_ny))\n",
    "    \n",
    "    return X_train, X_test"
   ]
  },
  {
   "cell_type": "markdown",
   "id": "bec1539c",
   "metadata": {},
   "source": [
    "This code defines a function called `standard_scaler` that takes in two parameters, `X_train` and `X_test`.   It first determines the shape of the input arrays `X_train` and `X_test` using the `shape` attribute. This gives the number of samples, the number of rows, and the number of columns in each array. These values are stored in variables: `train_samples`, `train_nx`, `train_ny` for `X_train`, and `test_samples`, `test_nx`, `test_ny` for `X_test`.  Next, it reshapes the input arrays `X_train` and `X_test` using the `reshape` method so that the samples are in rows and the features are in columns. The new shape for each array is determined by multiplying the number of samples by the product of the number of rows and the number of columns.  Then, a `preprocessor` object of the `StandardScaler` class from the `prep` module is created. It is fitted to the `X_train` array using the `fit` method, which calculates the mean and standard deviation of each feature in `X_train`.  The `X_train` and `X_test` arrays are transformed using the `transform` method of the `preprocessor` object. This scales the data by subtracting the mean and dividing by the standard deviation, based on the statistics calculated from `X_train`.  Finally, the transformed `X_train` and `X_test` arrays are reshaped back to their original shapes and returned as output from the function.  In summary, this code performs feature scaling using the standard scaler technique on the input arrays `X_train` and `X_test` and returns the scaled arrays."
   ]
  },
  {
   "cell_type": "markdown",
   "metadata": {},
   "source": [
    "Split the data to X_train, y_train, X_test, y_test"
   ]
  },
  {
   "cell_type": "code",
   "execution_count": 22,
   "metadata": {},
   "outputs": [],
   "source": [
    "def preprocess_data(stock, seq_len):\n",
    "    amount_of_features = len(stock.columns)\n",
    "    data = stock.values\n",
    "    \n",
    "    sequence_length = seq_len + 1\n",
    "    result = []\n",
    "    for index in range(len(data) - sequence_length):\n",
    "        result.append(data[index : index + sequence_length])\n",
    "        \n",
    "    result = np.array(result)\n",
    "    row = round(0.9 * result.shape[0])\n",
    "    train = result[: int(row), :]\n",
    "    \n",
    "    train, result = standard_scaler(train, result)\n",
    "    \n",
    "    X_train = train[:, : -1]\n",
    "    y_train = train[:, -1][: ,-1]\n",
    "    X_test = result[int(row) :, : -1]\n",
    "    y_test = result[int(row) :, -1][ : ,-1]\n",
    "\n",
    "    X_train = np.reshape(X_train, (X_train.shape[0], X_train.shape[1], amount_of_features))\n",
    "    X_test = np.reshape(X_test, (X_test.shape[0], X_test.shape[1], amount_of_features))  \n",
    "\n",
    "    return [X_train, y_train, X_test, y_test]"
   ]
  },
  {
   "cell_type": "markdown",
   "id": "21827649",
   "metadata": {},
   "source": [
    "This code is a function called `preprocess_data` that takes in two parameters: `stock` and `seq_len`. It performs several preprocessing steps on the input stock data.  First, it determines the number of features in the stock data by getting the length of the columns in the `stock` parameter.   Next, it converts the `stock` data into a numpy array and assigns it to the variable `data`.  Then, it initializes the variable `sequence_length` to be `seq_len + 1`.  The code then creates an empty list called `result` and goes through a loop that iterates from 0 to the length of the `data` minus the `sequence_length`. In each iteration, it appends a subarray of `data` starting from the current index to the index plus the `sequence_length` to the `result` list. This creates a list of sequences with a length of `seq_len` plus one, where the last value in each sequence is the target value.  Afterwards, the `result` list is converted into a numpy array and assigned back to the variable `result`.  Next, it calculates the number of rows to be included in the training data by multiplying 0.9 with the number of rows in `result` and rounding it. This is assigned to the variable `row`.  The code then calls a function called `standard_scaler` passing the `train` and `result` arrays as parameters. The `standard_scaler` function must be defined elsewhere in the code and is responsible for performing some type of scaling or normalization on the input data. The resulting scaled training and result arrays are assigned back to the variables `train` and `result` respectively.  Next, the code assigns the values for `X_train`, `y_train`, `X_test`, and `y_test` based on the `train` and `result` arrays.  `X_train` is assigned to all rows of `train` except the last column. `y_train` is assigned to the last column of `train`. `X_test` is assigned to all rows of `result` from the row index `row` onwards, except the last column. `y_test` is assigned to the\n",
    "last column of `result` from the row index `row` onwards.  The code then reshapes `X_train` and `X_test` to have dimensions of `(X_train.shape[0], X_train.shape[1], amount_of_features)` and `(X_test.shape[0], X_test.shape[1], amount_of_features)` respectively. This is necessary if the data is going to be used as input for a neural network model.  Finally, the function returns a list containing `X_train`, `y_train`, `X_test`, and `y_test`. These are the preprocessed training and test data that can be used for further analysis or modeling."
   ]
  },
  {
   "cell_type": "markdown",
   "metadata": {},
   "source": [
    "Build the LSTM Network\n",
    "\n",
    "Here we will build a simple RNN with 2 LSTM layers.\n",
    "The architecture is:\n",
    "    \n",
    "    LSTM --> Dropout --> LSTM --> Dropout --> Fully-Conneted(Dense)"
   ]
  },
  {
   "cell_type": "code",
   "execution_count": 29,
   "metadata": {},
   "outputs": [],
   "source": [
    "def build_model(layers):\n",
    "    model = Sequential()\n",
    "\n",
    "    # By setting return_sequences to True we are able to stack another LSTM layer\n",
    "    model.add(LSTM(\n",
    "        input_dim=layers[0],\n",
    "        output_dim=layers[1],\n",
    "        return_sequences=True))\n",
    "    model.add(Dropout(0.4))\n",
    "\n",
    "    model.add(LSTM(\n",
    "        layers[2],\n",
    "        return_sequences=False))\n",
    "    model.add(Dropout(0.3))\n",
    "\n",
    "    model.add(Dense(\n",
    "        output_dim=layers[3]))\n",
    "    model.add(Activation(\"linear\"))\n",
    "\n",
    "    start = time.time()\n",
    "    model.compile(loss=\"mse\", optimizer=\"rmsprop\", metrics=['accuracy'])\n",
    "    print(\"Compilation Time : \", time.time() - start)\n",
    "    return model"
   ]
  },
  {
   "cell_type": "markdown",
   "id": "6c814d1d",
   "metadata": {},
   "source": [
    "This code defines a function called `build_model` that takes in a list of layer sizes as input.   First, it creates a Sequential model, which is a linear stack of layers.  Then, it adds an LSTM layer to the model. The first LSTM layer has an input dimension equal to the first element of the `layers` list and an output dimension equal to the second element of the `layers` list. The `return_sequences` parameter is set to True, indicating that we want to stack another LSTM layer on top of this one.   Next, a Dropout layer with a dropout rate of 0.4 is added to the model. Dropout is a technique used to prevent overfitting by randomly setting a fraction of input units to 0 during training.  Another LSTM layer is added to the model, with a number of units equal to the third element of the `layers` list. The `return_sequences` parameter is set to False, indicating that we do not want to stack any more LSTM layers on top of this one.   Another Dropout layer, with a dropout rate of 0.3, is added to the model.  A Dense layer is added to the model, with an output dimension equal to the fourth element of the `layers` list.   An activation function of \"linear\" is added to the Dense layer.  After defining the layers, the model is compiled. The loss function is set to \"mse\" (mean squared error), the optimizer is set to \"rmsprop\", and the metric used for evaluation is \"accuracy\".  Finally, the compilation time is printed, and the model is returned."
   ]
  },
  {
   "cell_type": "code",
   "execution_count": 30,
   "metadata": {},
   "outputs": [
    {
     "name": "stdout",
     "output_type": "stream",
     "text": [
      "X_train (4648, 20, 6)\n",
      "y_train (4648,)\n",
      "X_test (516, 20, 6)\n",
      "y_test (516,)\n"
     ]
    }
   ],
   "source": [
    "window = 20\n",
    "X_train, y_train, X_test, y_test = preprocess_data(df[:: -1], window)\n",
    "print(\"X_train\", X_train.shape)\n",
    "print(\"y_train\", y_train.shape)\n",
    "print(\"X_test\", X_test.shape)\n",
    "print(\"y_test\", y_test.shape)"
   ]
  },
  {
   "cell_type": "markdown",
   "id": "a2acb5a1",
   "metadata": {},
   "source": [
    "This code sets the value of the variable \"window\" to 20. Then it calls the \"preprocess_data\" function with a parameter \"df[:: -1]\" and the value of \"window\". The function returns four variables - \"X_train\", \"y_train\", \"X_test\", and \"y_test\". The code then prints the shapes of these variables using the \"shape\" function."
   ]
  },
  {
   "cell_type": "code",
   "execution_count": 31,
   "metadata": {},
   "outputs": [
    {
     "name": "stderr",
     "output_type": "stream",
     "text": [
      "/Users/weston/.pyenv/versions/3.6.1/envs/nn/lib/python3.6/site-packages/ipykernel_launcher.py:8: UserWarning: The `input_dim` and `input_length` arguments in recurrent layers are deprecated. Use `input_shape` instead.\n",
      "  \n",
      "/Users/weston/.pyenv/versions/3.6.1/envs/nn/lib/python3.6/site-packages/ipykernel_launcher.py:8: UserWarning: Update your `LSTM` call to the Keras 2 API: `LSTM(return_sequences=True, input_shape=(None, 6), units=20)`\n",
      "  \n"
     ]
    },
    {
     "name": "stdout",
     "output_type": "stream",
     "text": [
      "Compilation Time :  0.02150106430053711\n"
     ]
    },
    {
     "name": "stderr",
     "output_type": "stream",
     "text": [
      "/Users/weston/.pyenv/versions/3.6.1/envs/nn/lib/python3.6/site-packages/ipykernel_launcher.py:17: UserWarning: Update your `Dense` call to the Keras 2 API: `Dense(units=1)`\n"
     ]
    }
   ],
   "source": [
    "model = build_model([X_train.shape[2], window, 100, 1])"
   ]
  },
  {
   "cell_type": "markdown",
   "id": "e8467c1b",
   "metadata": {},
   "source": [
    "This code builds a model using a function called `build_model`. The model takes input with a shape of `[X_train.shape[2], window, 100, 1]`. The `X_train.shape[2]` specifies the number of features in the input. The `window` specifies the sequence length. The model has 100 units in one of its layers and produces an output with a shape of 1."
   ]
  },
  {
   "cell_type": "markdown",
   "metadata": {},
   "source": [
    "Training the Network\n",
    "\n",
    "You can play with the hyperparameters here. The training process can take a significant time if you are using a average GPU or CPU(worse!)."
   ]
  },
  {
   "cell_type": "code",
   "execution_count": 35,
   "metadata": {},
   "outputs": [
    {
     "data": {
      "text/plain": [
       "<keras.callbacks.History at 0x11afb5668>"
      ]
     },
     "execution_count": 35,
     "metadata": {},
     "output_type": "execute_result"
    }
   ],
   "source": [
    "model.fit(\n",
    "    X_train,\n",
    "    y_train,\n",
    "    batch_size=768,\n",
    "    epochs=5,\n",
    "    validation_split=0.1,\n",
    "    verbose=0)"
   ]
  },
  {
   "cell_type": "markdown",
   "id": "bcc865a0",
   "metadata": {},
   "source": [
    "This code trains a machine learning model with the given training data and labels. The \"fit\" function is called on the model, with the following arguments:  - X_train: the features of the training data - y_train: the labels of the training data - batch_size: the number of samples that will be propagated through the model at once during training - epochs: the number of times the training data will be iterated over during training - validation_split: the fraction of the training data to be used for validation - verbose: the level of verbosity (0 means silent, 1 means progress\n",
    "bar)  Overall, this code trains the model on the given data and labels, with 5 iterations over the data, using a batch size of 768, and a validation set of 10% of the training data. It will not display any progress information during training."
   ]
  },
  {
   "cell_type": "code",
   "execution_count": 36,
   "metadata": {},
   "outputs": [
    {
     "name": "stdout",
     "output_type": "stream",
     "text": [
      "Train Score: 0.04 MSE (0.19 RMSE)\n",
      "Test Score: 0.11 MSE (0.33 RMSE)\n"
     ]
    }
   ],
   "source": [
    "trainScore = model.evaluate(X_train, y_train, verbose=0)\n",
    "print('Train Score: %.2f MSE (%.2f RMSE)' % (trainScore[0], math.sqrt(trainScore[0])))\n",
    "\n",
    "testScore = model.evaluate(X_test, y_test, verbose=0)\n",
    "print('Test Score: %.2f MSE (%.2f RMSE)' % (testScore[0], math.sqrt(testScore[0])))"
   ]
  },
  {
   "cell_type": "markdown",
   "id": "c0ea30a3",
   "metadata": {},
   "source": [
    "This code calculates and outputs the mean squared error (MSE) and root mean squared error (RMSE) for both the training and testing data sets.   The first line evaluates the model using the training data (X_train and y_train) and stores the result in the variable trainScore.   The second line outputs the trainScore by formatting it into a string that includes the MSE and RMSE. The trainScore[0] refers to the first element of the trainScore array, which is the MSE. The math.sqrt(trainScore[0]) calculates the RMSE by taking the square root of the MSE.   The third and fourth lines perform the same evaluation and output for the testing data (X_test and y_test), storing the results in the variable testScore. The testScore is then used to print the test MSE and RMSE in a similar format as the trainScore."
   ]
  },
  {
   "cell_type": "markdown",
   "metadata": {},
   "source": [
    "Visualize the Prediction"
   ]
  },
  {
   "cell_type": "code",
   "execution_count": 37,
   "metadata": {},
   "outputs": [],
   "source": [
    "diff = []\n",
    "ratio = []\n",
    "pred = model.predict(X_test)\n",
    "for u in range(len(y_test)):\n",
    "    pr = pred[u][0]\n",
    "    ratio.append((y_test[u] / pr) - 1)\n",
    "    diff.append(abs(y_test[u] - pr))"
   ]
  },
  {
   "cell_type": "markdown",
   "id": "e0c7e114",
   "metadata": {},
   "source": [
    "This code is calculating the difference and ratio between the predicted values (pred) and the actual values (y_test).  Initially, two empty lists, 'diff' and 'ratio', are created. Then, the model predicts the output values using the given test input (X_test). Next, in a loop that iterates over the length of y_test, the code performs the following steps: - Assigns the predicted value for the current iteration (pred[u][0]) to the variable 'pr'. - Calculates the ratio by dividing the actual value (y_test[u]) by 'pr', and then subtracting 1. This is done to determine the relative difference between the predicted and actual values. - Appends the calculated ratio to the 'ratio' list. - Calculates the absolute difference between the actual value and 'pr', and appends it to the 'diff' list."
   ]
  },
  {
   "cell_type": "code",
   "execution_count": 38,
   "metadata": {},
   "outputs": [],
   "source": [
    "# TODO: Scale it back"
   ]
  },
  {
   "cell_type": "markdown",
   "id": "a26925dc",
   "metadata": {},
   "source": [
    "This code is incomplete and has a TODO comment indicating that it needs to be modified. Without further information about the code, it is not possible to determine its exact purpose or what needs to be scaled back."
   ]
  },
  {
   "cell_type": "code",
   "execution_count": 41,
   "metadata": {},
   "outputs": [
    {
     "data": {
      "image/png": "[encoded data removed]",
      "text/plain": [
       "<Figure size 432x288 with 1 Axes>"
      ]
     },
     "metadata": {},
     "output_type": "display_data"
    }
   ],
   "source": [
    "# if using within a jupyter notebook\n",
    "%matplotlib inline \n",
    "\n",
    "import matplotlib\n",
    "import matplotlib.pyplot as plt\n",
    "\n",
    "plt2.plot(pred, color='red', label='Prediction')\n",
    "plt2.plot(y_test, color='blue', label='Ground Truth')\n",
    "plt2.legend(loc='upper left')\n",
    "plt2.show()"
   ]
  },
  {
   "cell_type": "markdown",
   "id": "1963568b",
   "metadata": {},
   "source": [
    "This code generates a line plot using the matplotlib library. It plots two datasets - \"pred\" and \"y_test\" - on the same plot.   The \"pred\" dataset is plotted in red and labeled as \"Prediction\" while the \"y_test\" dataset is plotted in blue and labeled as \"Ground Truth\".   Finally, the plot is displayed with a legend indicating the labels and their corresponding colors."
   ]
  }
 ],
 "metadata": {
  "kernelspec": {
   "display_name": "Python 3",
   "language": "python",
   "name": "python3"
  },
  "language_info": {
   "codemirror_mode": {
    "name": "ipython",
    "version": 3
   },
   "file_extension": ".py",
   "mimetype": "text/x-python",
   "name": "python",
   "nbconvert_exporter": "python",
   "pygments_lexer": "ipython3",
   "version": "3.6.1"
  },
  "widgets": {
   "state": {},
   "version": "1.1.2"
  }
 },
 "nbformat": 4,
 "nbformat_minor": 2
}
